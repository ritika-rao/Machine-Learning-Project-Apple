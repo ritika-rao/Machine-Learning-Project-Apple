{
 "cells": [
  {
   "cell_type": "markdown",
   "metadata": {},
   "source": [
    "# Module 6"
   ]
  },
  {
   "cell_type": "code",
   "execution_count": 5,
   "metadata": {},
   "outputs": [],
   "source": [
    "import pandas as pd\n",
    "import numpy as np"
   ]
  },
  {
   "attachments": {
    "image.png": {
     "image/png": "[encoded data removed]"
    }
   },
   "cell_type": "markdown",
   "metadata": {},
   "source": [
    "![image.png](attachment:image.png)"
   ]
  },
  {
   "cell_type": "code",
   "execution_count": 85,
   "metadata": {},
   "outputs": [],
   "source": [
    "#importing datasets from each cap and making new dataset\n",
    "df = pd.DataFrame()\n",
    "\n",
    "df_01=pd.read_csv('ASIANPAINT.csv')\n",
    "df['asian']=df_01['Close Price']\n",
    "\n",
    "df_02=pd.read_csv('AXISBANK.csv')\n",
    "df['axis']=df_02['Close Price']\n",
    "\n",
    "df_03=pd.read_csv('BAJFINANCE.csv')\n",
    "df['bajaj']=df_03['Close Price']\n",
    "\n",
    "df_04=pd.read_csv('BOMDYEING.csv')\n",
    "df['bombay']=df_04['Close Price']\n",
    "\n",
    "df_05=pd.read_csv('CENTURYPLY.csv')\n",
    "df['centuryply']=df_05['Close Price']\n",
    "\n",
    "df_06=pd.read_csv('FORTIS.csv')\n",
    "df['fortis']=df_06['Close Price']\n",
    "\n",
    "df_07=pd.read_csv('HDFCBANK.csv')\n",
    "df['hdfc']=df_07['Close Price']\n",
    "\n",
    "df_08=pd.read_csv('IDFC.csv')\n",
    "df['idfc']=df_08['Close Price']\n",
    "\n",
    "df_09=pd.read_csv('ITC.csv')\n",
    "df['itc']=df_09['Close Price']\n",
    "\n",
    "df_10=pd.read_csv('ITDC.csv')\n",
    "df['itdc']=df_10['Close Price']\n",
    "\n",
    "df_11=pd.read_csv('JETAIRWAYS.csv')\n",
    "df['jetairways']=df_11['Close Price']\n",
    "\n",
    "df_12=pd.read_csv('M&M.csv')\n",
    "df['m&m']=df_12['Close Price']\n",
    "\n",
    "df_13=pd.read_csv('MARUTI.csv')\n",
    "df['maruti']=df_13['Close Price']\n",
    "\n",
    "df_14=pd.read_csv('MRPL.csv')\n",
    "df['mrpl']=df_14['Close Price']\n",
    "\n",
    "df_15=pd.read_csv('MUTHOOTFIN.csv')\n",
    "df['muthoot']=df_15['Close Price']\n",
    "\n",
    "df_16=pd.read_csv('NBCC.csv')\n",
    "df['nbcc']=df_16['Close Price']\n",
    "\n",
    "df_17=pd.read_csv('PNB.csv')\n",
    "df['pnb']=df_17['Close Price']\n",
    "\n",
    "df_18=pd.read_csv('PVR.csv')\n",
    "df['pvr']=df_18['Close Price']\n",
    "\n",
    "df_19=pd.read_csv('RAYMOND.csv')\n",
    "df['raymond']=df_19['Close Price']\n",
    "\n",
    "df_20=pd.read_csv('RBLBANK.csv')\n",
    "df['rbl']=df_20['Close Price']\n",
    "\n",
    "df_21=pd.read_csv('RELIANCE.csv')\n",
    "df['reliance']=df_21['Close Price']\n",
    "\n",
    "df_22=pd.read_csv('RELINFRA.csv')\n",
    "df['relinfra']=df_22['Close Price']\n",
    "\n",
    "df_23=pd.read_csv('SONATSOFTW.csv')\n",
    "df['sona']=df_23['Close Price']\n",
    "\n",
    "df_24=pd.read_csv('SUNTV.csv')\n",
    "df['suntv']=df_24['Close Price']\n",
    "\n",
    "df_25=pd.read_csv('TATACHEM.csv')\n",
    "df['tatachem']=df_25['Close Price']\n",
    "\n",
    "df_26=pd.read_csv('TATAPOWER.csv')\n",
    "df['tatapower']=df_26['Close Price']\n",
    "\n",
    "df_27=pd.read_csv('TCS.csv')\n",
    "df['tcs']=df_27['Close Price']\n",
    "\n",
    "df_28=pd.read_csv('TITAN.csv')\n",
    "df['titan']=df_28['Close Price']\n",
    "\n",
    "df_29=pd.read_csv('VIPIND.csv')\n",
    "df['vipind']=df_29['Close Price']\n",
    "\n",
    "df_30=pd.read_csv('VOLTAS.csv')\n",
    "df['voltas']=df_30['Close Price']\n",
    "\n"
   ]
  },
  {
   "cell_type": "code",
   "execution_count": 86,
   "metadata": {},
   "outputs": [
    {
     "data": {
      "text/html": [
       "<div>\n",
       "<style scoped>\n",
       "    .dataframe tbody tr th:only-of-type {\n",
       "        vertical-align: middle;\n",
       "    }\n",
       "\n",
       "    .dataframe tbody tr th {\n",
       "        vertical-align: top;\n",
       "    }\n",
       "\n",
       "    .dataframe thead th {\n",
       "        text-align: right;\n",
       "    }\n",
       "</style>\n",
       "<table border=\"1\" class=\"dataframe\">\n",
       "  <thead>\n",
       "    <tr style=\"text-align: right;\">\n",
       "      <th></th>\n",
       "      <th>asian</th>\n",
       "      <th>axis</th>\n",
       "      <th>bajaj</th>\n",
       "      <th>bombay</th>\n",
       "      <th>centuryply</th>\n",
       "      <th>fortis</th>\n",
       "      <th>hdfc</th>\n",
       "      <th>idfc</th>\n",
       "      <th>itc</th>\n",
       "      <th>itdc</th>\n",
       "      <th>...</th>\n",
       "      <th>reliance</th>\n",
       "      <th>relinfra</th>\n",
       "      <th>sona</th>\n",
       "      <th>suntv</th>\n",
       "      <th>tatachem</th>\n",
       "      <th>tatapower</th>\n",
       "      <th>tcs</th>\n",
       "      <th>titan</th>\n",
       "      <th>vipind</th>\n",
       "      <th>voltas</th>\n",
       "    </tr>\n",
       "  </thead>\n",
       "  <tbody>\n",
       "    <tr>\n",
       "      <th>0</th>\n",
       "      <td>1148.05</td>\n",
       "      <td>500.1</td>\n",
       "      <td>1332.95</td>\n",
       "      <td>82.20</td>\n",
       "      <td>266.65</td>\n",
       "      <td>205.25</td>\n",
       "      <td>1553.40</td>\n",
       "      <td>63.70</td>\n",
       "      <td>277.95</td>\n",
       "      <td>650.15</td>\n",
       "      <td>...</td>\n",
       "      <td>1344.10</td>\n",
       "      <td>605.40</td>\n",
       "      <td>162.65</td>\n",
       "      <td>912.20</td>\n",
       "      <td>629.80</td>\n",
       "      <td>83.55</td>\n",
       "      <td>2365.10</td>\n",
       "      <td>483.65</td>\n",
       "      <td>199.20</td>\n",
       "      <td>431.85</td>\n",
       "    </tr>\n",
       "    <tr>\n",
       "      <th>1</th>\n",
       "      <td>1142.85</td>\n",
       "      <td>501.5</td>\n",
       "      <td>1347.75</td>\n",
       "      <td>83.40</td>\n",
       "      <td>266.10</td>\n",
       "      <td>207.90</td>\n",
       "      <td>1583.00</td>\n",
       "      <td>64.25</td>\n",
       "      <td>283.45</td>\n",
       "      <td>636.70</td>\n",
       "      <td>...</td>\n",
       "      <td>1356.30</td>\n",
       "      <td>611.05</td>\n",
       "      <td>158.60</td>\n",
       "      <td>894.70</td>\n",
       "      <td>643.90</td>\n",
       "      <td>83.85</td>\n",
       "      <td>2429.15</td>\n",
       "      <td>488.30</td>\n",
       "      <td>200.90</td>\n",
       "      <td>432.45</td>\n",
       "    </tr>\n",
       "    <tr>\n",
       "      <th>2</th>\n",
       "      <td>1154.95</td>\n",
       "      <td>502.8</td>\n",
       "      <td>1324.80</td>\n",
       "      <td>82.25</td>\n",
       "      <td>264.85</td>\n",
       "      <td>205.90</td>\n",
       "      <td>1559.65</td>\n",
       "      <td>63.35</td>\n",
       "      <td>281.65</td>\n",
       "      <td>626.75</td>\n",
       "      <td>...</td>\n",
       "      <td>1353.10</td>\n",
       "      <td>605.25</td>\n",
       "      <td>158.25</td>\n",
       "      <td>887.05</td>\n",
       "      <td>638.10</td>\n",
       "      <td>85.35</td>\n",
       "      <td>2455.35</td>\n",
       "      <td>481.75</td>\n",
       "      <td>199.65</td>\n",
       "      <td>430.20</td>\n",
       "    </tr>\n",
       "    <tr>\n",
       "      <th>3</th>\n",
       "      <td>1151.35</td>\n",
       "      <td>492.0</td>\n",
       "      <td>1314.55</td>\n",
       "      <td>78.95</td>\n",
       "      <td>260.35</td>\n",
       "      <td>196.85</td>\n",
       "      <td>1557.15</td>\n",
       "      <td>61.50</td>\n",
       "      <td>277.90</td>\n",
       "      <td>604.65</td>\n",
       "      <td>...</td>\n",
       "      <td>1327.35</td>\n",
       "      <td>578.65</td>\n",
       "      <td>157.40</td>\n",
       "      <td>871.35</td>\n",
       "      <td>624.90</td>\n",
       "      <td>83.75</td>\n",
       "      <td>2536.20</td>\n",
       "      <td>471.65</td>\n",
       "      <td>193.30</td>\n",
       "      <td>414.10</td>\n",
       "    </tr>\n",
       "    <tr>\n",
       "      <th>4</th>\n",
       "      <td>1123.15</td>\n",
       "      <td>501.7</td>\n",
       "      <td>1289.15</td>\n",
       "      <td>77.15</td>\n",
       "      <td>254.05</td>\n",
       "      <td>203.55</td>\n",
       "      <td>1600.00</td>\n",
       "      <td>61.15</td>\n",
       "      <td>286.20</td>\n",
       "      <td>594.30</td>\n",
       "      <td>...</td>\n",
       "      <td>1318.85</td>\n",
       "      <td>569.55</td>\n",
       "      <td>151.90</td>\n",
       "      <td>852.40</td>\n",
       "      <td>616.45</td>\n",
       "      <td>84.15</td>\n",
       "      <td>2507.15</td>\n",
       "      <td>471.15</td>\n",
       "      <td>195.95</td>\n",
       "      <td>415.75</td>\n",
       "    </tr>\n",
       "  </tbody>\n",
       "</table>\n",
       "<p>5 rows × 30 columns</p>\n",
       "</div>"
      ],
      "text/plain": [
       "     asian   axis    bajaj  bombay  centuryply  fortis     hdfc   idfc  \\\n",
       "0  1148.05  500.1  1332.95   82.20      266.65  205.25  1553.40  63.70   \n",
       "1  1142.85  501.5  1347.75   83.40      266.10  207.90  1583.00  64.25   \n",
       "2  1154.95  502.8  1324.80   82.25      264.85  205.90  1559.65  63.35   \n",
       "3  1151.35  492.0  1314.55   78.95      260.35  196.85  1557.15  61.50   \n",
       "4  1123.15  501.7  1289.15   77.15      254.05  203.55  1600.00  61.15   \n",
       "\n",
       "      itc    itdc  ...  reliance  relinfra    sona   suntv  tatachem  \\\n",
       "0  277.95  650.15  ...   1344.10    605.40  162.65  912.20    629.80   \n",
       "1  283.45  636.70  ...   1356.30    611.05  158.60  894.70    643.90   \n",
       "2  281.65  626.75  ...   1353.10    605.25  158.25  887.05    638.10   \n",
       "3  277.90  604.65  ...   1327.35    578.65  157.40  871.35    624.90   \n",
       "4  286.20  594.30  ...   1318.85    569.55  151.90  852.40    616.45   \n",
       "\n",
       "   tatapower      tcs   titan  vipind  voltas  \n",
       "0      83.55  2365.10  483.65  199.20  431.85  \n",
       "1      83.85  2429.15  488.30  200.90  432.45  \n",
       "2      85.35  2455.35  481.75  199.65  430.20  \n",
       "3      83.75  2536.20  471.65  193.30  414.10  \n",
       "4      84.15  2507.15  471.15  195.95  415.75  \n",
       "\n",
       "[5 rows x 30 columns]"
      ]
     },
     "execution_count": 86,
     "metadata": {},
     "output_type": "execute_result"
    }
   ],
   "source": [
    "df.head()"
   ]
  },
  {
   "cell_type": "code",
   "execution_count": 87,
   "metadata": {},
   "outputs": [
    {
     "data": {
      "text/plain": [
       "(495, 30)"
      ]
     },
     "execution_count": 87,
     "metadata": {},
     "output_type": "execute_result"
    }
   ],
   "source": [
    "df.shape"
   ]
  },
  {
   "cell_type": "code",
   "execution_count": 88,
   "metadata": {},
   "outputs": [
    {
     "data": {
      "text/plain": [
       "asian         0\n",
       "axis          0\n",
       "bajaj         0\n",
       "bombay        1\n",
       "centuryply    1\n",
       "fortis        0\n",
       "hdfc          0\n",
       "idfc          0\n",
       "itc           0\n",
       "itdc          1\n",
       "jetairways    1\n",
       "m&m           0\n",
       "maruti        0\n",
       "mrpl          1\n",
       "muthoot       0\n",
       "nbcc          1\n",
       "pnb           1\n",
       "pvr           0\n",
       "raymond       1\n",
       "rbl           1\n",
       "reliance      0\n",
       "relinfra      1\n",
       "sona          1\n",
       "suntv         1\n",
       "tatachem      0\n",
       "tatapower     0\n",
       "tcs           0\n",
       "titan         0\n",
       "vipind        1\n",
       "voltas        1\n",
       "dtype: int64"
      ]
     },
     "execution_count": 88,
     "metadata": {},
     "output_type": "execute_result"
    }
   ],
   "source": [
    "df.isnull().sum()"
   ]
  },
  {
   "attachments": {
    "image.png": {
     "image/png": "[encoded data removed]"
    }
   },
   "cell_type": "markdown",
   "metadata": {},
   "source": [
    "![image.png](attachment:image.png)"
   ]
  },
  {
   "cell_type": "code",
   "execution_count": 89,
   "metadata": {},
   "outputs": [],
   "source": [
    "import math"
   ]
  },
  {
   "cell_type": "code",
   "execution_count": 90,
   "metadata": {},
   "outputs": [
    {
     "data": {
      "text/html": [
       "<div>\n",
       "<style scoped>\n",
       "    .dataframe tbody tr th:only-of-type {\n",
       "        vertical-align: middle;\n",
       "    }\n",
       "\n",
       "    .dataframe tbody tr th {\n",
       "        vertical-align: top;\n",
       "    }\n",
       "\n",
       "    .dataframe thead th {\n",
       "        text-align: right;\n",
       "    }\n",
       "</style>\n",
       "<table border=\"1\" class=\"dataframe\">\n",
       "  <thead>\n",
       "    <tr style=\"text-align: right;\">\n",
       "      <th></th>\n",
       "      <th>Returns</th>\n",
       "      <th>volatility</th>\n",
       "    </tr>\n",
       "  </thead>\n",
       "  <tbody>\n",
       "    <tr>\n",
       "      <th>asian</th>\n",
       "      <td>0.097791</td>\n",
       "      <td>0.209249</td>\n",
       "    </tr>\n",
       "    <tr>\n",
       "      <th>axis</th>\n",
       "      <td>0.232722</td>\n",
       "      <td>0.277636</td>\n",
       "    </tr>\n",
       "    <tr>\n",
       "      <th>bajaj</th>\n",
       "      <td>0.453413</td>\n",
       "      <td>0.320735</td>\n",
       "    </tr>\n",
       "    <tr>\n",
       "      <th>bombay</th>\n",
       "      <td>0.326958</td>\n",
       "      <td>0.602258</td>\n",
       "    </tr>\n",
       "    <tr>\n",
       "      <th>centuryply</th>\n",
       "      <td>-0.181969</td>\n",
       "      <td>0.374888</td>\n",
       "    </tr>\n",
       "    <tr>\n",
       "      <th>fortis</th>\n",
       "      <td>-0.145528</td>\n",
       "      <td>0.421213</td>\n",
       "    </tr>\n",
       "    <tr>\n",
       "      <th>hdfc</th>\n",
       "      <td>0.163186</td>\n",
       "      <td>0.256612</td>\n",
       "    </tr>\n",
       "    <tr>\n",
       "      <th>idfc</th>\n",
       "      <td>-0.244936</td>\n",
       "      <td>0.359064</td>\n",
       "    </tr>\n",
       "    <tr>\n",
       "      <th>itc</th>\n",
       "      <td>0.060312</td>\n",
       "      <td>0.223696</td>\n",
       "    </tr>\n",
       "    <tr>\n",
       "      <th>itdc</th>\n",
       "      <td>-0.368638</td>\n",
       "      <td>0.527226</td>\n",
       "    </tr>\n",
       "    <tr>\n",
       "      <th>jetairways</th>\n",
       "      <td>-0.480045</td>\n",
       "      <td>0.624221</td>\n",
       "    </tr>\n",
       "    <tr>\n",
       "      <th>m&amp;m</th>\n",
       "      <td>-0.265495</td>\n",
       "      <td>0.439940</td>\n",
       "    </tr>\n",
       "    <tr>\n",
       "      <th>maruti</th>\n",
       "      <td>0.010686</td>\n",
       "      <td>0.225030</td>\n",
       "    </tr>\n",
       "    <tr>\n",
       "      <th>mrpl</th>\n",
       "      <td>-0.322303</td>\n",
       "      <td>0.365528</td>\n",
       "    </tr>\n",
       "    <tr>\n",
       "      <th>muthoot</th>\n",
       "      <td>104.956753</td>\n",
       "      <td>18.287512</td>\n",
       "    </tr>\n",
       "    <tr>\n",
       "      <th>nbcc</th>\n",
       "      <td>-0.514133</td>\n",
       "      <td>0.508158</td>\n",
       "    </tr>\n",
       "    <tr>\n",
       "      <th>pnb</th>\n",
       "      <td>-0.238955</td>\n",
       "      <td>0.544837</td>\n",
       "    </tr>\n",
       "    <tr>\n",
       "      <th>pvr</th>\n",
       "      <td>0.110868</td>\n",
       "      <td>0.309893</td>\n",
       "    </tr>\n",
       "    <tr>\n",
       "      <th>raymond</th>\n",
       "      <td>0.069879</td>\n",
       "      <td>0.363465</td>\n",
       "    </tr>\n",
       "    <tr>\n",
       "      <th>rbl</th>\n",
       "      <td>0.113267</td>\n",
       "      <td>0.258470</td>\n",
       "    </tr>\n",
       "    <tr>\n",
       "      <th>reliance</th>\n",
       "      <td>0.087141</td>\n",
       "      <td>0.438788</td>\n",
       "    </tr>\n",
       "    <tr>\n",
       "      <th>relinfra</th>\n",
       "      <td>-0.748555</td>\n",
       "      <td>0.547024</td>\n",
       "    </tr>\n",
       "    <tr>\n",
       "      <th>sona</th>\n",
       "      <td>0.455334</td>\n",
       "      <td>0.401531</td>\n",
       "    </tr>\n",
       "    <tr>\n",
       "      <th>suntv</th>\n",
       "      <td>-0.205288</td>\n",
       "      <td>0.365044</td>\n",
       "    </tr>\n",
       "    <tr>\n",
       "      <th>tatachem</th>\n",
       "      <td>-0.002735</td>\n",
       "      <td>0.246705</td>\n",
       "    </tr>\n",
       "    <tr>\n",
       "      <th>tatapower</th>\n",
       "      <td>-0.100360</td>\n",
       "      <td>0.308266</td>\n",
       "    </tr>\n",
       "    <tr>\n",
       "      <th>tcs</th>\n",
       "      <td>0.080520</td>\n",
       "      <td>0.430949</td>\n",
       "    </tr>\n",
       "    <tr>\n",
       "      <th>titan</th>\n",
       "      <td>0.484923</td>\n",
       "      <td>0.324454</td>\n",
       "    </tr>\n",
       "    <tr>\n",
       "      <th>vipind</th>\n",
       "      <td>0.478693</td>\n",
       "      <td>0.431633</td>\n",
       "    </tr>\n",
       "    <tr>\n",
       "      <th>voltas</th>\n",
       "      <td>0.190643</td>\n",
       "      <td>0.308034</td>\n",
       "    </tr>\n",
       "  </tbody>\n",
       "</table>\n",
       "</div>"
      ],
      "text/plain": [
       "               Returns  volatility\n",
       "asian         0.097791    0.209249\n",
       "axis          0.232722    0.277636\n",
       "bajaj         0.453413    0.320735\n",
       "bombay        0.326958    0.602258\n",
       "centuryply   -0.181969    0.374888\n",
       "fortis       -0.145528    0.421213\n",
       "hdfc          0.163186    0.256612\n",
       "idfc         -0.244936    0.359064\n",
       "itc           0.060312    0.223696\n",
       "itdc         -0.368638    0.527226\n",
       "jetairways   -0.480045    0.624221\n",
       "m&m          -0.265495    0.439940\n",
       "maruti        0.010686    0.225030\n",
       "mrpl         -0.322303    0.365528\n",
       "muthoot     104.956753   18.287512\n",
       "nbcc         -0.514133    0.508158\n",
       "pnb          -0.238955    0.544837\n",
       "pvr           0.110868    0.309893\n",
       "raymond       0.069879    0.363465\n",
       "rbl           0.113267    0.258470\n",
       "reliance      0.087141    0.438788\n",
       "relinfra     -0.748555    0.547024\n",
       "sona          0.455334    0.401531\n",
       "suntv        -0.205288    0.365044\n",
       "tatachem     -0.002735    0.246705\n",
       "tatapower    -0.100360    0.308266\n",
       "tcs           0.080520    0.430949\n",
       "titan         0.484923    0.324454\n",
       "vipind        0.478693    0.431633\n",
       "voltas        0.190643    0.308034"
      ]
     },
     "execution_count": 90,
     "metadata": {},
     "output_type": "execute_result"
    }
   ],
   "source": [
    "gp=gp.dropna()\n",
    "returns=df.pct_change().mean()*252\n",
    "gp=pd.DataFrame(returns)\n",
    "gp.columns=['Returns']\n",
    "gp['volatility']=df.pct_change().std() * (math.sqrt(252))\n",
    "gp"
   ]
  },
  {
   "cell_type": "code",
   "execution_count": 94,
   "metadata": {},
   "outputs": [
    {
     "data": {
      "text/plain": [
       "<matplotlib.axes._subplots.AxesSubplot at 0x14ef9597d08>"
      ]
     },
     "execution_count": 94,
     "metadata": {},
     "output_type": "execute_result"
    },
    {
     "data": {
      "image/png": "[encoded data removed]",
      "text/plain": [
       "<Figure size 432x288 with 1 Axes>"
      ]
     },
     "metadata": {
      "needs_background": "light"
     },
     "output_type": "display_data"
    }
   ],
   "source": [
    "#checking for outliers\n",
    "import seaborn as sns\n",
    "sns.boxplot(x=gp['Returns'])"
   ]
  },
  {
   "cell_type": "code",
   "execution_count": 95,
   "metadata": {},
   "outputs": [
    {
     "data": {
      "text/plain": [
       "<matplotlib.axes._subplots.AxesSubplot at 0x14ef96a5bc8>"
      ]
     },
     "execution_count": 95,
     "metadata": {},
     "output_type": "execute_result"
    },
    {
     "data": {
      "image/png": "[encoded data removed]",
      "text/plain": [
       "<Figure size 432x288 with 1 Axes>"
      ]
     },
     "metadata": {
      "needs_background": "light"
     },
     "output_type": "display_data"
    }
   ],
   "source": [
    "import seaborn as sns\n",
    "sns.boxplot(x=gp['volatility'])"
   ]
  },
  {
   "cell_type": "code",
   "execution_count": 93,
   "metadata": {},
   "outputs": [],
   "source": [
    "# Dropping the outliers \n",
    "gp.drop(gp.loc[gp['Returns']>1].index, inplace=True)"
   ]
  },
  {
   "attachments": {
    "image.png": {
     "image/png": "[encoded data removed]"
    }
   },
   "cell_type": "markdown",
   "metadata": {},
   "source": [
    "![image.png](attachment:image.png)"
   ]
  },
  {
   "cell_type": "code",
   "execution_count": 110,
   "metadata": {},
   "outputs": [],
   "source": [
    "import matplotlib.pyplot as plt\n",
    "%matplotlib inline \n",
    "from sklearn.cluster import KMeans\n",
    "from sklearn.preprocessing import StandardScaler\n",
    "from sklearn import metrics\n",
    "from sklearn.cluster import AgglomerativeClustering"
   ]
  },
  {
   "cell_type": "code",
   "execution_count": 96,
   "metadata": {},
   "outputs": [],
   "source": [
    "#Running K means in range of k and then storing the distortions\n",
    "distortions = []\n",
    "K = range(1,10)\n",
    "for k in K:\n",
    "    kmeanModel = KMeans(n_clusters=k)\n",
    "    kmeanModel.fit(gp)\n",
    "    distortions.append(kmeanModel.inertia_)"
   ]
  },
  {
   "cell_type": "code",
   "execution_count": 98,
   "metadata": {},
   "outputs": [
    {
     "data": {
      "image/png": "[encoded data removed]",
      "text/plain": [
       "<Figure size 432x288 with 1 Axes>"
      ]
     },
     "metadata": {
      "needs_background": "light"
     },
     "output_type": "display_data"
    }
   ],
   "source": [
    "#ploting the distortions of K means\n",
    "plt.plot(K, distortions, 'bx-')\n",
    "plt.xlabel('k')\n",
    "plt.ylabel('Distortion')\n",
    "plt.title('The Elbow Method showing the optimal k')\n",
    "plt.show()"
   ]
  },
  {
   "cell_type": "markdown",
   "metadata": {},
   "source": [
    "###### We can see optimal elbow point at 4"
   ]
  },
  {
   "attachments": {
    "image.png": {
     "image/png": "[encoded data removed]"
    }
   },
   "cell_type": "markdown",
   "metadata": {},
   "source": [
    "![image.png](attachment:image.png)"
   ]
  },
  {
   "cell_type": "code",
   "execution_count": 107,
   "metadata": {},
   "outputs": [
    {
     "data": {
      "text/plain": [
       "Text(0.5, 1.0, 'Position of Datavalues')"
      ]
     },
     "execution_count": 107,
     "metadata": {},
     "output_type": "execute_result"
    },
    {
     "data": {
      "image/png": "[encoded data removed]",
      "text/plain": [
       "<Figure size 720x360 with 1 Axes>"
      ]
     },
     "metadata": {
      "needs_background": "light"
     },
     "output_type": "display_data"
    }
   ],
   "source": [
    "# Values plotted\n",
    "plt.figure(figsize=(10,5))\n",
    "plt.scatter(X[:,0],X[:,1])\n",
    "plt.title('Position of Datavalues',fontsize=15)"
   ]
  },
  {
   "cell_type": "code",
   "execution_count": 119,
   "metadata": {},
   "outputs": [
    {
     "data": {
      "text/plain": [
       "Text(0.5, 1.0, 'Datavalues belonging to Clusters')"
      ]
     },
     "execution_count": 119,
     "metadata": {},
     "output_type": "execute_result"
    },
    {
     "data": {
      "image/png": "[encoded data removed]",
      "text/plain": [
       "<Figure size 864x432 with 1 Axes>"
      ]
     },
     "metadata": {
      "needs_background": "light"
     },
     "output_type": "display_data"
    }
   ],
   "source": [
    "kmeans = KMeans(n_clusters=4)\n",
    "kmeans.fit(X)\n",
    "\n",
    "fig, ax = plt.subplots(figsize=(12,6))\n",
    "# scatter plot to show clusters\n",
    "ax.scatter(X[:,0],X[:,1], c=kmeans.labels_, cmap='RdYlBu')\n",
    "plt.title('Datavalues belonging to Clusters',fontsize=15)"
   ]
  },
  {
   "cell_type": "code",
   "execution_count": 117,
   "metadata": {},
   "outputs": [
    {
     "data": {
      "text/plain": [
       "Text(0.5, 1.0, 'Position of Centres for different clusters')"
      ]
     },
     "execution_count": 117,
     "metadata": {},
     "output_type": "execute_result"
    },
    {
     "data": {
      "image/png": "[encoded data removed]",
      "text/plain": [
       "<Figure size 864x432 with 1 Axes>"
      ]
     },
     "metadata": {
      "needs_background": "light"
     },
     "output_type": "display_data"
    }
   ],
   "source": [
    "fig, ax = plt.subplots(figsize=(12,6))\n",
    "# scatter plot to show clusters centre\n",
    "ax.scatter(X[:,0],X[:,1], c=kmenas.labels_,cmap='RdYlBu')\n",
    "# produce a legend with the unique colors from the scatter\n",
    "plt.scatter(kmeans.cluster_centers_[:,0] ,kmeans.cluster_centers_[:,1],marker=(5,1,0),color='k',s=200)\n",
    "plt.title('Position of Centres for different clusters',fontsize=15)"
   ]
  },
  {
   "cell_type": "markdown",
   "metadata": {},
   "source": [
    "#### THANK YOU!"
   ]
  }
 ],
 "metadata": {
  "kernelspec": {
   "display_name": "Python 3",
   "language": "python",
   "name": "python3"
  },
  "language_info": {
   "codemirror_mode": {
    "name": "ipython",
    "version": 3
   },
   "file_extension": ".py",
   "mimetype": "text/x-python",
   "name": "python",
   "nbconvert_exporter": "python",
   "pygments_lexer": "ipython3",
   "version": "3.7.6"
  }
 },
 "nbformat": 4,
 "nbformat_minor": 4
}
